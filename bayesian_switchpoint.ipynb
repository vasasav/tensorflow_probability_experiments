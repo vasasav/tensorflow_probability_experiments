{
 "cells": [
  {
   "cell_type": "markdown",
   "metadata": {},
   "source": [
    "# Bayesian switchpoint analysis\n",
    "\n",
    "Getting familiar with tensorflow-probability. Following [Bayesian Switchpoint Analysis](https://www.tensorflow.org/probability/examples/Bayesian_Switchpoint_Analysis)"
   ]
  },
  {
   "cell_type": "code",
   "execution_count": 1,
   "metadata": {},
   "outputs": [
    {
     "name": "stderr",
     "output_type": "stream",
     "text": [
      "2021-10-16 13:09:25.539182: W tensorflow/stream_executor/platform/default/dso_loader.cc:64] Could not load dynamic library 'libcudart.so.11.0'; dlerror: libcudart.so.11.0: cannot open shared object file: No such file or directory\n",
      "2021-10-16 13:09:25.539222: I tensorflow/stream_executor/cuda/cudart_stub.cc:29] Ignore above cudart dlerror if you do not have a GPU set up on your machine.\n"
     ]
    }
   ],
   "source": [
    "import numpy as np\n",
    "\n",
    "import matplotlib as mpl\n",
    "import matplotlib.pyplot as pp\n",
    "import matplotlib.cm as cm\n",
    "\n",
    "import numpy as np\n",
    "\n",
    "import tensorflow as tf\n",
    "import tensorflow_probability as tfp\n",
    "\n",
    "tfp_d = tfp.distributions\n",
    "tfp_b = tfp.bijectors\n"
   ]
  },
  {
   "cell_type": "markdown",
   "metadata": {},
   "source": [
    "## Dataset"
   ]
  },
  {
   "cell_type": "code",
   "execution_count": 2,
   "metadata": {},
   "outputs": [
    {
     "data": {
      "text/plain": [
       "Text(0, 0.5, 'Disaster count')"
      ]
     },
     "execution_count": 2,
     "metadata": {},
     "output_type": "execute_result"
    },
    {
     "data": {
      "image/png": "[encoded data removed]",
      "text/plain": [
       "<Figure size 432x288 with 1 Axes>"
      ]
     },
     "metadata": {
      "needs_background": "light"
     },
     "output_type": "display_data"
    }
   ],
   "source": [
    "# 111 points all together\n",
    "disaster_data = np.array([ 4, 5, 4, 0, 1, 4, 3, 4, 0, 6, 3, 3, 4, 0, 2, 6,\n",
    "                           3, 3, 5, 4, 5, 3, 1, 4, 4, 1, 5, 5, 3, 4, 2, 5,\n",
    "                           2, 2, 3, 4, 2, 1, 3, 2, 2, 1, 1, 1, 1, 3, 0, 0,\n",
    "                           1, 0, 1, 1, 0, 0, 3, 1, 0, 3, 2, 2, 0, 1, 1, 1,\n",
    "                           0, 1, 0, 1, 0, 0, 0, 2, 1, 0, 0, 0, 1, 1, 0, 2,\n",
    "                           3, 3, 1, 1, 2, 1, 1, 1, 1, 2, 4, 2, 0, 0, 1, 4,\n",
    "                           0, 0, 0, 1, 0, 0, 0, 0, 0, 1, 0, 0, 1, 0, 1])\n",
    "\n",
    "years = np.arange(1851, 1962)\n",
    "\n",
    "fig, ax = pp.subplots()\n",
    "ax.plot(years, disaster_data, '.')\n",
    "ax.set_xlabel('Year')\n",
    "ax.set_ylabel('Disaster count')"
   ]
  },
  {
   "cell_type": "markdown",
   "metadata": {},
   "source": [
    "## Probabilistic model\n",
    "\n",
    "Will slightly depart from the tutorial here. Don't see much value in declaring $s$ and $l$ to be exponentially distributed, as is done in the tutorial. The posterior for them is certainly not exponential.\n",
    "\n",
    "The only value it, it would seem, that if $s$ and $l$ have a distribution attached to them, then one can easily sample from the distribution $D_t$, but this is not needed to define likelihood function.\n",
    "\n",
    "### Sigmoid switch\n",
    "\n",
    "The model for the number of disasters per year, $D_t$ is that the disasters arise with some rate $r_t$.\n",
    "\n",
    "Disaster rate is assumed to be constant or at least random with stationary distribution for most of the time, but there is a change at some point in time.\n",
    "\n",
    "$$\n",
    "\\begin{align}\n",
    "\\left(D_t\\,| \\, s,e,l\\right) &\\sim \\mbox{Poisson}\\left(r_t\\right) \\\\\n",
    "r_t&=e\\:+\\:\\frac{l-e}{1+\\exp\\left((s-t)/\\alpha\\right)} \\\\\n",
    "\\end{align}\n",
    "$$\n",
    "\n",
    "Where $t \\in \\left[t_l,\\,t_h\\right]$ and $s>0$ and $l>0$. From the data it seems that maximum number of disasters per year is about 6, so set the upper limit at 20"
   ]
  },
  {
   "cell_type": "markdown",
   "metadata": {},
   "source": [
    "### Defining model"
   ]
  },
  {
   "cell_type": "markdown",
   "metadata": {},
   "source": [
    "The only thing that is really needed here is actually the likelihood function that includes all the available data\n",
    "\n",
    "The PMF for Poisson distribution is:\n",
    "\n",
    "$$\n",
    "p\\left(k\\right)=\\frac{\\lambda^k\\,\\exp\\left(-\\lambda\\right)}{k!}\n",
    "$$\n",
    "\n",
    "Hence the log-likelihood is:\n",
    "\n",
    "$$\n",
    "\\log p\\left(k\\,\\Big|\\,\\lambda\\right)=k\\cdot \\log\\lambda - \\lambda -\\sum_{i=1}^k i=k\\cdot \\log\\lambda - \\lambda- \\frac{k\\cdot\\left(k+1\\right)}{2}\n",
    "$$\n"
   ]
  },
  {
   "cell_type": "code",
   "execution_count": 6,
   "metadata": {},
   "outputs": [
    {
     "data": {
      "text/plain": [
       "<tf.Tensor: shape=(), dtype=float32, numpy=-462.4854>"
      ]
     },
     "execution_count": 6,
     "metadata": {},
     "output_type": "execute_result"
    }
   ],
   "source": [
    "def log_lkhd_func(\n",
    "    s,\n",
    "    e,\n",
    "    l,\n",
    "    alpha,\n",
    "    alpha_pedestal=1e-6,\n",
    "    disaster_years=years,\n",
    "    disaster_counts=disaster_data\n",
    "):\n",
    "    \"\"\"\n",
    "    Likelihood of data given parameters.\n",
    "    \n",
    "    Arguments:\n",
    "    ----------\n",
    "        * s - switch-point, i.e. year at which the rate switches\n",
    "        * e - early disaster rate\n",
    "        * l - late disaster rate\n",
    "        * disaster_years - years for previously known disasters [1891, 1892, ....]\n",
    "        * disaster_count - goes together with disaster_years, number of disasters that year\n",
    "        * alpha - scale of sigmooid switch on in years, similar to scale of period span of the years involved.\n",
    "        * alpha_pedestal - small value added to alpha to prevent division by zero\n",
    "        * disaster_years - training data, years of the disaster\n",
    "        * disaster_counts - training data, number of disasters in any specific years\n",
    "        \n",
    "    Returns:\n",
    "    --------\n",
    "        The log-likelihood of the data (disaster_years & disaster_counts) given the params\n",
    "    \"\"\"\n",
    "    # get basic disaster rate\n",
    "    disaster_rate = e + (l-e)/(1+tf.exp( (s-disaster_years)/(alpha+alpha_pedestal) ) )\n",
    "    \n",
    "    # get the log-likelihood for all the individual evens\n",
    "    log_lkhd_arr = disaster_counts * tf.math.log(disaster_rate) - \\\n",
    "                    disaster_rate - \\\n",
    "                    ((disaster_counts+1)*disaster_counts)/2\n",
    "    \n",
    "    # pull to a total likelood\n",
    "    log_lkhd = tf.math.reduce_sum(log_lkhd_arr)\n",
    "    \n",
    "    return log_lkhd\n",
    "\n",
    "#\n",
    "log_lkhd_func(tf.constant(1890.), tf.constant(3.1), tf.constant(0.92), tf.constant(5.))"
   ]
  },
  {
   "cell_type": "markdown",
   "metadata": {},
   "source": [
    "## MCMC"
   ]
  },
  {
   "cell_type": "markdown",
   "metadata": {},
   "source": [
    "Markov-Chain Monte-Carlo is needed here to sample from posterior distribution"
   ]
  },
  {
   "cell_type": "code",
   "execution_count": 12,
   "metadata": {},
   "outputs": [
    {
     "name": "stdout",
     "output_type": "stream",
     "text": [
      "Done\n"
     ]
    }
   ],
   "source": [
    "@tf.function(autograph=False, jit_compile=True)\n",
    "def hmc_sample_posterior(\n",
    "    tgt_log_lkhd_fn,\n",
    "    init_state,\n",
    "    s_min,\n",
    "    s_max,\n",
    "    num_burnin_steps=1000,\n",
    "    num_samples_per_chain=100\n",
    "):\n",
    "    \"\"\"\n",
    "    Initialize HMC kernel and run the chains. Note that passing list of three tensors with shape (chain_count, 1) \n",
    "    allows one to initialize severla chains. Returns the samples from the log_lkhd_fn as a tensor\n",
    "    \n",
    "    Arguments:\n",
    "    ----------\n",
    "        * tgt_log_lkhd_fn: log-likelihood function from which to draw the sample\n",
    "        * init_state: [list of tensors or numpy] the three elements in the list will be the three arguments of the log-likelihood function\n",
    "            making the tensors in the list of shape (chain_count,1) allows one to run multiple chains\n",
    "        * s_min: minimum value for the s-param (used for bijector)\n",
    "        * s_max: ditto max value\n",
    "        * num_burnin_steps: number of transitions the chain needs to run before one can start drawing samples from it\n",
    "        * num_samples_per_chain: how many examples of parameters to draw from each chain\n",
    "        \n",
    "    Returns:\n",
    "    --------\n",
    "        Tensor with sampling results\n",
    "    \"\"\"\n",
    "    # runs a single iteration of the MCMC given the \n",
    "    # target probability distribution. \n",
    "    hmc_kernel = tfp.mcmc.HamiltonianMonteCarlo(\n",
    "        target_log_prob_fn=tgt_log_lkhd_fn,\n",
    "        step_size=0.05,\n",
    "        num_leapfrog_steps=3\n",
    "    )\n",
    "    \n",
    "    # transformed kernel\n",
    "    # essentially inserts a bijective map before the inner kernel\n",
    "    # the main effect is that log-probability density gets re-parametrized\n",
    "    # in a new domain. This initial domain can be arbitrary, i.e. real line \n",
    "    # the bijectors then map the real line into something suitable, and then\n",
    "    # that suitable domain gets fed into the inner kernel\n",
    "    # target_log_prob(bij.forward(x)) + bij.forward_log_det_jacobian(x)\n",
    "    # In the present example, s, i.e. the switch-point can only occur\n",
    "    # between a fixed point of years we are considering. Once could feed the \n",
    "    # whole real line in, the Uniform distribition for `s` would simply send\n",
    "    # to zero most of it - and that wouuld be a waste of time. So we map real line\n",
    "    # into a fixed interval\n",
    "    # similar story for `e` and `l` the early and later disaster rates. These are \n",
    "    # strictly non-negative, so it makes sense to map real line accordingly\n",
    "    # alpha is also strictly non-negative, and is unlikely to be much above zero\n",
    "    transformed_kernel = tfp.mcmc.TransformedTransitionKernel(\n",
    "        inner_kernel = hmc_kernel,\n",
    "        bijector = [ # order of bijectors is dictated by the order of \n",
    "            # params in the target_log_prob_fn\n",
    "            tfp_b.Sigmoid(low=tf.cast(s_min, dtype=tf.float32), high=tf.cast(s_max, dtype=tf.float32)),\n",
    "            tfp_b.Softplus(),\n",
    "            tfp_b.Softplus(),\n",
    "            tfp_b.Softplus()\n",
    "        ]\n",
    "    )\n",
    "    \n",
    "    # adaptive step\n",
    "    step_adapt_kernel = tfp.mcmc.SimpleStepSizeAdaptation(\n",
    "        inner_kernel = transformed_kernel,\n",
    "        num_adaptation_steps = int(0.8 * num_burnin_steps)\n",
    "    )\n",
    "    \n",
    "    # initialize the sampler and run chain(s) \n",
    "    samples = tfp.mcmc.sample_chain(\n",
    "        num_results=num_samples_per_chain,\n",
    "        num_burnin_steps=num_burnin_steps,\n",
    "        current_state=init_state,\n",
    "        trace_fn=None,\n",
    "        kernel=step_adapt_kernel\n",
    "    )\n",
    "    \n",
    "    return samples\n",
    "\n",
    "\n",
    "####\n",
    "chain_count = 50\n",
    "samples_per_chain = 50\n",
    "\n",
    "init_state = [\n",
    "    tf.repeat(tf.constant([np.mean(years)], dtype=tf.float32, shape=(1,1)), axis=0, repeats=chain_count),\n",
    "    tf.repeat(tf.constant([np.mean(disaster_data)], dtype=tf.float32, shape=(1,1)), axis=0, repeats=chain_count),\n",
    "    tf.repeat(tf.constant([np.mean(disaster_data)], dtype=tf.float32, shape=(1,1)), axis=0, repeats=chain_count),\n",
    "    tf.repeat(tf.constant([1.0], dtype=tf.float32, shape=(1,1)), axis=0, repeats=chain_count)\n",
    "]\n",
    "\n",
    "hmc_sample = hmc_sample_posterior(\n",
    "    tgt_log_lkhd_fn = lambda *args: log_lkhd_func(*args),\n",
    "    init_state=init_state,\n",
    "    s_min=min(years),\n",
    "    s_max=max(years),\n",
    "    num_burnin_steps=10000,\n",
    "    num_samples_per_chain=samples_per_chain\n",
    ")\n",
    "\n",
    "print('Done')"
   ]
  },
  {
   "cell_type": "markdown",
   "metadata": {},
   "source": [
    "Check the posterior distributions"
   ]
  },
  {
   "cell_type": "code",
   "execution_count": 15,
   "metadata": {},
   "outputs": [
    {
     "name": "stdout",
     "output_type": "stream",
     "text": [
      "Switch-point with 90% confidence: [1880.9, 1894.3]\n",
      "Early disaster rate 90% confidence: [2.8, 4.2]\n",
      "Late disaster rate 90% confidence: [0.6, 1.1]\n",
      "Late disaster rate 90% confidence: [0.6, 1.1]\n"
     ]
    },
    {
     "data": {
      "text/plain": [
       "Text(0.5, 0, 'Switch scale (years)')"
      ]
     },
     "execution_count": 15,
     "metadata": {},
     "output_type": "execute_result"
    },
    {
     "data": {
      "image/png": "[encoded data removed]",
      "text/plain": [
       "<Figure size 1296x432 with 4 Axes>"
      ]
     },
     "metadata": {
      "needs_background": "light"
     },
     "output_type": "display_data"
    }
   ],
   "source": [
    "fig, (ax1, ax2, ax3, ax4) = pp.subplots(1, 4, figsize=(18, 6))\n",
    "\n",
    "confidence_level = 0.9\n",
    "\n",
    "\n",
    "s_arr = hmc_sample[0].numpy().reshape(-1)\n",
    "s_ci_min = np.quantile(s_arr, (1-confidence_level)/2)\n",
    "s_ci_max = np.quantile(s_arr, 1-((1-confidence_level)/2))\n",
    "print(f'Switch-point with {confidence_level*100:.0f}% confidence: [{s_ci_min:.1f}, {s_ci_max:.1f}]')\n",
    "#\n",
    "_ = ax1.hist(s_arr, bins=50, density=True, color=cm.tab10(0))\n",
    "ax1.grid()\n",
    "ax1.set_xlabel('s (years)')\n",
    "\n",
    "\n",
    "e_arr = hmc_sample[1].numpy().reshape(-1)\n",
    "e_ci_min = np.quantile(e_arr, (1-confidence_level)/2)\n",
    "e_ci_max = np.quantile(e_arr, 1-((1-confidence_level)/2))\n",
    "print(f'Early disaster rate {confidence_level*100:.0f}% confidence: [{e_ci_min:.1f}, {e_ci_max:.1f}]')\n",
    "#\n",
    "_ = ax2.hist(e_arr, bins=50, density=True, color=cm.tab10(1))\n",
    "ax2.grid()\n",
    "ax2.set_xlabel('Early disaster rate (1/year)')\n",
    "\n",
    "\n",
    "l_arr = hmc_sample[2].numpy().reshape(-1)\n",
    "l_ci_min = np.quantile(l_arr, (1-confidence_level)/2)\n",
    "l_ci_max = np.quantile(l_arr, 1-((1-confidence_level)/2))\n",
    "print(f'Late disaster rate {confidence_level*100:.0f}% confidence: [{l_ci_min:.1f}, {l_ci_max:.1f}]')\n",
    "#\n",
    "_ = ax3.hist(l_arr, bins=50, density=True, color=cm.tab10(2))\n",
    "ax3.grid()\n",
    "ax3.set_xlabel('Late disaster rate (1/year)')\n",
    "\n",
    "\n",
    "alpha_arr = hmc_sample[3].numpy().reshape(-1)\n",
    "alpha_ci_min = np.quantile(alpha_arr, (1-confidence_level)/2)\n",
    "alpha_ci_max = np.quantile(alpha_arr, 1-((1-confidence_level)/2))\n",
    "print(f'Late disaster rate {confidence_level*100:.0f}% confidence: [{l_ci_min:.1f}, {l_ci_max:.1f}]')\n",
    "#\n",
    "_ = ax4.hist(alpha_arr, bins=50, density=True, color=cm.tab10(3))\n",
    "ax4.grid()\n",
    "ax4.set_xlabel('Switch scale (years)')"
   ]
  },
  {
   "cell_type": "markdown",
   "metadata": {},
   "source": [
    "Values reported in the source for this [Bayesian Switchpoint Analysis](https://www.tensorflow.org/probability/examples/Bayesian_Switchpoint_Analysis), were (sigmoid):\n",
    "\n",
    "| value name              | value 90% CI |\n",
    "|-------------------------|--------------|\n",
    "| early disaster rate (e) | [2.57, 3.74] |\n",
    "| late disaster rate (l)  | [0.71, 1.16] |\n",
    "| switch point            | [1886, 1895] |"
   ]
  },
  {
   "cell_type": "markdown",
   "metadata": {},
   "source": [
    "Getting somewhat wider intervals here. The large values on switch scale deserve investigation in the future. Certainly 1 year (as implicitly assumed in the source) is not the most probable value.\n",
    "\n",
    "Left for next time"
   ]
  },
  {
   "cell_type": "code",
   "execution_count": null,
   "metadata": {},
   "outputs": [],
   "source": []
  }
 ],
 "metadata": {
  "kernelspec": {
   "display_name": "Python 3 (ipykernel)",
   "language": "python",
   "name": "python3"
  },
  "language_info": {
   "codemirror_mode": {
    "name": "ipython",
    "version": 3
   },
   "file_extension": ".py",
   "mimetype": "text/x-python",
   "name": "python",
   "nbconvert_exporter": "python",
   "pygments_lexer": "ipython3",
   "version": "3.9.7"
  }
 },
 "nbformat": 4,
 "nbformat_minor": 4
}

{
 "cells": [
  {
   "cell_type": "markdown",
   "id": "c9806f78-4eec-4973-92ef-12c5b9faed08",
   "metadata": {},
   "source": [
    "# Recoverying parameters of normal model\n",
    "\n",
    "Starting from $X\\sim N\\left(\\mu,\\,\\sigma^2\\right)$ use Bayesian approach to sample from probability distirbutions for $\\sigma^2$ and $\\mu$"
   ]
  },
  {
   "cell_type": "code",
   "execution_count": 1,
   "id": "e11d1cd6-569c-43ec-9574-b5e49178b61b",
   "metadata": {},
   "outputs": [
    {
     "name": "stderr",
     "output_type": "stream",
     "text": [
      "2021-10-29 01:04:36.073571: W tensorflow/stream_executor/platform/default/dso_loader.cc:64] Could not load dynamic library 'libcudart.so.11.0'; dlerror: libcudart.so.11.0: cannot open shared object file: No such file or directory\n",
      "2021-10-29 01:04:36.073593: I tensorflow/stream_executor/cuda/cudart_stub.cc:29] Ignore above cudart dlerror if you do not have a GPU set up on your machine.\n"
     ]
    }
   ],
   "source": [
    "import numpy as np\n",
    "\n",
    "import matplotlib as mpl\n",
    "import matplotlib.pyplot as pp\n",
    "import matplotlib.cm as cm\n",
    "\n",
    "import tensorflow as tf\n",
    "import tensorflow_probability as tfp\n",
    "\n",
    "import typing as tp\n",
    "\n",
    "import scipy as sp\n",
    "import scipy.stats as sp_stats"
   ]
  },
  {
   "cell_type": "markdown",
   "id": "3e37e3c1-ce1c-4f20-9f41-fbbc532bd1d0",
   "metadata": {},
   "source": [
    "## Draw samples for fitting the model"
   ]
  },
  {
   "cell_type": "markdown",
   "id": "ea355721-c1ed-40a8-8cd1-09882b0b056d",
   "metadata": {},
   "source": [
    "Create a ditribution of points with pre-defined variance and mean, for an easy test of performance"
   ]
  },
  {
   "cell_type": "code",
   "execution_count": 2,
   "id": "93741368-1189-4f15-ab1c-9608905a8bc4",
   "metadata": {},
   "outputs": [
    {
     "name": "stderr",
     "output_type": "stream",
     "text": [
      "2021-10-29 01:04:37.332842: W tensorflow/stream_executor/platform/default/dso_loader.cc:64] Could not load dynamic library 'libcuda.so.1'; dlerror: libcuda.so.1: cannot open shared object file: No such file or directory\n",
      "2021-10-29 01:04:37.332859: W tensorflow/stream_executor/cuda/cuda_driver.cc:269] failed call to cuInit: UNKNOWN ERROR (303)\n",
      "2021-10-29 01:04:37.332873: I tensorflow/stream_executor/cuda/cuda_diagnostics.cc:156] kernel driver does not appear to be running on this host (cryo-Latitude-7300): /proc/driver/nvidia/version does not exist\n",
      "2021-10-29 01:04:37.333061: I tensorflow/core/platform/cpu_feature_guard.cc:142] This TensorFlow binary is optimized with oneAPI Deep Neural Network Library (oneDNN) to use the following CPU instructions in performance-critical operations:  AVX2 FMA\n",
      "To enable them in other operations, rebuild TensorFlow with the appropriate compiler flags.\n"
     ]
    },
    {
     "data": {
      "text/plain": [
       "Text(0, 0.5, 'Counts as density')"
      ]
     },
     "execution_count": 2,
     "metadata": {},
     "output_type": "execute_result"
    },
    {
     "data": {
      "image/png": "[encoded data removed]",
      "text/plain": [
       "<Figure size 432x288 with 1 Axes>"
      ]
     },
     "metadata": {
      "needs_background": "light"
     },
     "output_type": "display_data"
    }
   ],
   "source": [
    "chosen_sig2 = 0.5\n",
    "chosen_mu = -3.4\n",
    "\n",
    "# NB! parametrization for TFP.Normal is by the standard deviation, not variance!\n",
    "sampled_data = tfp.distributions.Normal(\n",
    "    loc=chosen_mu, scale=np.sqrt(chosen_sig2)\n",
    ").sample(1200).numpy()\n",
    "\n",
    "fig, ax = pp.subplots()\n",
    "#\n",
    "_ = ax.hist(sampled_data, bins=100, density=True)\n",
    "ax.set_xlabel('x')\n",
    "ax.set_ylabel('Counts as density')"
   ]
  },
  {
   "cell_type": "markdown",
   "id": "2e7e3dda-1880-461e-acc0-3eee1c50f828",
   "metadata": {},
   "source": [
    "## Prior\n",
    "\n",
    "Build a function to compute the log of the posterior given the data. Need prior for the parameters. The model we are fitting is:\n",
    "\n",
    "$$\n",
    "\\begin{align}\n",
    "x &\\sim N\\left(\\mu,\\,\\sigma^2\\right) \\\\\n",
    "\\mu \\,\\Big|\\, \\sigma^2 &\\sim N\\left(\\mu_0, \\frac{\\sigma^2}{\\nu+1}\\right) \\\\\n",
    "\\sigma^2 &\\sim \\mbox{Inv-}\\chi^2\\left(\\nu,\\,\\sigma^2_0\\right)=\\mbox{Inv-}\\Gamma\\left(\\frac{\\nu}{2},\\,\\frac{\\nu\\sigma_0^2}{2}\\right)\n",
    "\\end{align}\n",
    "$$"
   ]
  },
  {
   "cell_type": "markdown",
   "id": "bbe8ecd7-ef08-4318-a681-18aa383200d0",
   "metadata": {},
   "source": [
    "A good way to think about these is that distribution of $\\sigma^2$ is the one that would deduce with a sample variance of $\\sigma_0^2$ obtained from $\\nu_0$ degrees of freedom. i.e. if one had previously measured $\\nu+1$ points from the distribution, and used one degree of freedom to fix, sample mean. Then the probability distribution for $\\sigma^2$, given sample variance of $\\sigma_0^2$, and assuming trivial $1/\\sigma^2$ prior, would be inverse-$\\chi^2$ as above.\n",
    "\n",
    "Using the same fictitios sample, one can obtain the distribution for the mean $\\mu$ given sample mean $\\mu_0$ and the variance of the distribution $\\nu^2$."
   ]
  },
  {
   "cell_type": "code",
   "execution_count": 3,
   "id": "94537aca-e532-47a6-9506-3a248f90b1a2",
   "metadata": {},
   "outputs": [
    {
     "name": "stdout",
     "output_type": "stream",
     "text": [
      "WARNING:tensorflow:@custom_gradient grad_fn has 'variables' in signature, but no ResourceVariables were used on the forward pass.\n"
     ]
    },
    {
     "name": "stderr",
     "output_type": "stream",
     "text": [
      "2021-10-29 01:04:37.887125: I tensorflow/compiler/mlir/mlir_graph_optimization_pass.cc:185] None of the MLIR Optimization Passes are enabled (registered 2)\n"
     ]
    },
    {
     "data": {
      "text/plain": [
       "Text(0.5, 1.0, 'Marginal prior for $\\\\sigma^2$')"
      ]
     },
     "execution_count": 3,
     "metadata": {},
     "output_type": "execute_result"
    },
    {
     "data": {
      "image/png": "[encoded data removed]",
      "text/plain": [
       "<Figure size 1080x432 with 2 Axes>"
      ]
     },
     "metadata": {
      "needs_background": "light"
     },
     "output_type": "display_data"
    }
   ],
   "source": [
    "def get_prior_distribution(\n",
    "    prior_nu: int=5,\n",
    "    prior_sig2: float=1.0,\n",
    "    prior_mu: float=0.0\n",
    ")->tfp.distributions.JointDistribution:\n",
    "    \"\"\"\n",
    "    Given key parameters initialize and return prior distribution for mean and variance of the normal model. The names\n",
    "    for the variables are `sig2` for variance and `mu` for mean, in that order\n",
    "    \n",
    "    Arguments:\n",
    "    ----------\n",
    "        prior_nu: equivalent to degrees of freedom -1 for the prior sample of data\n",
    "        prior_sig2: equivalent prior sample variance\n",
    "        prior_mu: equivalent priior sample mean\n",
    "        \n",
    "    Returns:\n",
    "    --------\n",
    "        joint distribution for `sig2` and `mu`\n",
    "    \"\"\"\n",
    "    \n",
    "    prior_distr = tfp.distributions.JointDistributionNamed({\n",
    "        'sig2': tfp.distributions.InverseGamma( prior_nu/2., prior_nu*prior_sig2/2 ),\n",
    "        'mu': lambda sig2: tfp.distributions.Normal( prior_mu, tf.sqrt(sig2/(prior_nu+1)) )\n",
    "    })\n",
    "    \n",
    "    return prior_distr\n",
    "\n",
    "####\n",
    "\n",
    "prior_distr = get_prior_distribution(\n",
    "    prior_nu=len(sampled_data),\n",
    "    prior_sig2=1.,\n",
    "    prior_mu=0.0\n",
    ")\n",
    "prior_samples = prior_distr.sample(len(sampled_data))\n",
    "\n",
    "fig, (ax, ax2) = pp.subplots(1, 2, figsize=(15, 6))\n",
    "#\n",
    "_ = ax.hist(prior_samples['mu'].numpy(), density=True, bins=800, color=cm.tab10(0))\n",
    "ax.set_xlabel('$\\mu$')\n",
    "ax.set_ylabel('Counts as density')\n",
    "ax.grid()\n",
    "ax.set_title('Marginal prior for $\\mu$')\n",
    "#\n",
    "_ = ax2.hist(prior_samples['sig2'].numpy(), density=True, bins=800, color=cm.tab10(1))\n",
    "ax2.set_xlabel('$\\sigma^2$')\n",
    "ax2.set_ylabel('Counts as density')\n",
    "ax2.grid()\n",
    "ax2.set_title('Marginal prior for $\\sigma^2$')"
   ]
  },
  {
   "cell_type": "markdown",
   "id": "9e0e020d-2928-4d92-8ff9-39a6aa54b3ab",
   "metadata": {},
   "source": [
    "## Likelihood and posterior"
   ]
  },
  {
   "cell_type": "markdown",
   "id": "13dd5244-1995-4fe0-9ce3-46af49b3dd2f",
   "metadata": {},
   "source": [
    "Now we are ready to define function for log-posterior probability. MCMC will then sample from it, to provide results. The posetrior will depend on prior as well as the data"
   ]
  },
  {
   "cell_type": "code",
   "execution_count": 4,
   "id": "d7a90caf-57dc-4fb2-8b26-dc2950b0d714",
   "metadata": {},
   "outputs": [
    {
     "name": "stdout",
     "output_type": "stream",
     "text": [
      "tf.Tensor(\n",
      "[[-15362.51    -8072.692   -5328.146 ]\n",
      " [ -3871.034  -13064.415   -3543.2324]], shape=(2, 3), dtype=float32)\n"
     ]
    }
   ],
   "source": [
    "def log_lkhd(\n",
    "    mu: tf.Tensor,\n",
    "    sig2: tf.Tensor,\n",
    "    data: tf.Tensor=tf.constant(sampled_data)\n",
    ")->tf.Tensor:\n",
    "    \"\"\"\n",
    "    Compute likelihood for data points given mean and variance (mu, sig2). Incoming mu and sig2 can \n",
    "    be tensors. data is assumed to be a 1d tensor. Internally data extended into a [N, *] shape where\n",
    "    N is the number of data points along the zeroth dimnesion of `data` argument, and * are the common\n",
    "    dimensions of mu and sig2. \n",
    "    \n",
    "    Assumed model is: x~N(mu, sig2)\n",
    "    \n",
    "    After expansion, the log_probability for all individual data points is computed, for all values in mu, sig2.\n",
    "    The result is then collapsed along the zeroth dimension. The resulting [*]-dimensional tensor, with log-prob\n",
    "    for all points, is returned\n",
    "    \n",
    "    Arguments:\n",
    "    ----------\n",
    "        mu: tensor of mean values\n",
    "        sig2: tensor of variances, same shape as mu, this is not a multivariate model. All cells\n",
    "            of mu and sig2 are simply processed in parallel\n",
    "            \n",
    "        data: data points, an (N,)-shaped tensor\n",
    "        \n",
    "    Returns:\n",
    "    --------\n",
    "        Tensor of log-likelihooeds\n",
    "    \"\"\"\n",
    "    \n",
    "    # reshape to have data running along the zeroth axis, with sig2 and mu running along others\n",
    "    data_reshaped = tf.reshape(data, [data.shape[0], *[1 for _ in mu.shape]])\n",
    "    \n",
    "    # define probabilistic model\n",
    "    data_model = tfp.distributions.Normal(mu, tf.sqrt(sig2))\n",
    "    \n",
    "    # compute log-likelihood\n",
    "    log_lkhd_per_sample = data_model.log_prob(data_reshaped)\n",
    "    \n",
    "    # collapse along zeroth dimension, to get probability for all data points\n",
    "    log_lkhd_agg = tf.reduce_sum(log_lkhd_per_sample, axis=0)\n",
    "    \n",
    "    return log_lkhd_agg\n",
    "\n",
    "####\n",
    "\n",
    "def log_post_prob(\n",
    "    mu: tf.Tensor,\n",
    "    sig2: tf.Tensor,\n",
    "    prior_distribution: tfp.distributions.JointDistribution,\n",
    "    log_lkhd_func: tp.Callable[[tf.Tensor, tf.Tensor, tf.Tensor], tf.Tensor],\n",
    "    data: tf.Tensor=tf.constant(sampled_data)\n",
    ")->tf.Tensor:\n",
    "    \"\"\"\n",
    "    Compute log of non-normalized posterior distribution given prior, data and likelihood\n",
    "    \n",
    "    Arguments:\n",
    "    ----------\n",
    "        mu: mean for the model - trying to fit that. tensor with arbitrary shape\n",
    "        sig2: variance for the model, same as mu\n",
    "        prior_distribution: Joint prior probability distribution for the data. Should take in `sig2` and \n",
    "            `mu` as inputs and return log-probability of prior beliefs (via `log_prob`)\n",
    "            \n",
    "        log_lkhd_func: function that takes in mu, sig2 and data, as tensors, and returns the \n",
    "            log-likelihood for all the data points, given mu and sig2. See `log_lkhd`\n",
    "        data: (N,)-shaped tensor of data points for N data points\n",
    "        \n",
    "    Returns:\n",
    "    --------\n",
    "        tensor of posterior log-probabilities, that is shaped like mu and sig\n",
    "    \"\"\"\n",
    "    \n",
    "    # compute prior log-probability\n",
    "    log_prior_tens = prior_distribution.log_prob(sig2=sig2, mu=mu)\n",
    "    \n",
    "    # compute likelihood\n",
    "    log_lkhd_tens = log_lkhd_func(mu, sig2, data)\n",
    "    \n",
    "    # compute posterior log-prob\n",
    "    log_post_tens = log_lkhd_tens + log_prior_tens\n",
    "    \n",
    "    return log_post_tens\n",
    "\n",
    "\n",
    "####\n",
    "\n",
    "\n",
    "print(\n",
    "    log_post_prob(\n",
    "        mu=tf.constant([[chosen_mu, 0.2, 0.7], [-0.3, 0.7, -0.9]]), \n",
    "        sig2=tf.constant([[chosen_sig2, 1.2, 3.4], [4.0, 0.9, 3.1]]),\n",
    "        prior_distribution=prior_distr,\n",
    "        log_lkhd_func=log_lkhd,\n",
    "        data=tf.constant(sampled_data, dtype=tf.float32)\n",
    "    )\n",
    ")"
   ]
  },
  {
   "cell_type": "markdown",
   "id": "ad1c7276-f6c9-4516-a521-6bf3f3a4a26d",
   "metadata": {},
   "source": [
    "## MCMC sampling\n",
    "\n",
    "Next, use Markov-Chain Monte Carlo to sample from log-posterior"
   ]
  },
  {
   "cell_type": "code",
   "execution_count": 5,
   "id": "d78744a2-6c7c-48e1-85b7-a87fff7c3491",
   "metadata": {},
   "outputs": [
    {
     "name": "stdout",
     "output_type": "stream",
     "text": [
      "WARNING:tensorflow:@custom_gradient grad_fn has 'variables' in signature, but no ResourceVariables were used on the forward pass.\n",
      "Running chain\n",
      "WARNING:tensorflow:@custom_gradient grad_fn has 'variables' in signature, but no ResourceVariables were used on the forward pass.\n",
      "WARNING:tensorflow:@custom_gradient grad_fn has 'variables' in signature, but no ResourceVariables were used on the forward pass.\n"
     ]
    },
    {
     "name": "stderr",
     "output_type": "stream",
     "text": [
      "2021-10-29 01:04:40.235523: I tensorflow/compiler/xla/service/service.cc:171] XLA service 0x55a2b7f9b0d0 initialized for platform Host (this does not guarantee that XLA will be used). Devices:\n",
      "2021-10-29 01:04:40.235552: I tensorflow/compiler/xla/service/service.cc:179]   StreamExecutor device (0): Host, Default Version\n",
      "2021-10-29 01:04:40.259810: I tensorflow/compiler/mlir/tensorflow/utils/dump_mlir_util.cc:210] disabling MLIR crash reproducer, set env var `MLIR_CRASH_REPRODUCER_DIRECTORY` to enable.\n",
      "2021-10-29 01:04:40.315454: W tensorflow/compiler/tf2xla/kernels/random_ops.cc:96] Warning: Using tf.random.uniform with XLA compilation will ignore seeds; consider using tf.random.stateless_uniform instead if reproducible behavior is desired. sanitize_seed/seed\n",
      "2021-10-29 01:04:42.159176: I tensorflow/compiler/jit/xla_compilation_cache.cc:363] Compiled cluster using XLA!  This line is logged at most once for the lifetime of the process.\n"
     ]
    },
    {
     "name": "stdout",
     "output_type": "stream",
     "text": [
      "Done\n"
     ]
    }
   ],
   "source": [
    "######### RANDOM-WALK METROPOLIS\n",
    "@tf.function(jit_compile=True)\n",
    "def rwm_mcmc_sample(\n",
    "    log_post_func: tp.Callable[[tf.Tensor, tf.Tensor], tf.Tensor],\n",
    "    init_state: tp.List[tf.Tensor],\n",
    "    num_burnin_steps: int=1000,\n",
    "    num_results: int=100\n",
    ")->tf.Tensor:\n",
    "    \"\"\"\n",
    "    Run MCMC using basic RandomWalkMetropolis.\n",
    "    \n",
    "    Arguments:\n",
    "    ----------\n",
    "        log_post_func: function that accepts tensors for mu and sig2 and returns log-probability for the posterior\n",
    "        init_state: initial state for MCMC, list of two tensors, for mu and sig2, with shapes (K, 1) where K is the number\n",
    "                    of chains\n",
    "        num_burnin_steps: number of burn-in steps see `tensorflow_probability.mcmc.sample_chain`\n",
    "        num_results: number of results per chain see `tensorflow_probability.mcmc.sample_chain`\n",
    "        \n",
    "    Returns:\n",
    "    --------\n",
    "        A list of tensors ([mu, sig2]) with the results. The shape of the tensors includes number of results and \n",
    "        number of chains\n",
    "    \"\"\"\n",
    "    \n",
    "    # basic kernel\n",
    "    rwm_kernel = tfp.mcmc.RandomWalkMetropolis(\n",
    "        target_log_prob_fn=log_post_func\n",
    "    )\n",
    "    \n",
    "    # sample chain\n",
    "    sampled_chain = tfp.mcmc.sample_chain(\n",
    "        kernel=rwm_kernel,\n",
    "        trace_fn=None,\n",
    "        current_state=init_state,\n",
    "        num_burnin_steps=num_burnin_steps,\n",
    "        num_results=num_results\n",
    "    )\n",
    "    \n",
    "    return sampled_chain\n",
    "\n",
    "######### HMC\n",
    "\n",
    "@tf.function(jit_compile=True)\n",
    "def hmc_mcmc_sample(\n",
    "    log_post_func: tp.Callable[[tf.Tensor, tf.Tensor], tf.Tensor],\n",
    "    init_state: tp.List[tf.Tensor],\n",
    "    num_burnin_steps: int=1000,\n",
    "    num_results: int=100,\n",
    "    step_size: float=0.05,\n",
    "    num_leapfrog_steps=3,\n",
    ")->tf.Tensor:\n",
    "    \"\"\"\n",
    "    Run MCMC using basic Hamiltonian Monte-Carlo\n",
    "    \n",
    "    Arguments:\n",
    "    ----------\n",
    "        log_post_func: function that accepts tensors for mu and sig2 and returns log-probability for the posterior\n",
    "        init_state: initial state for MCMC, list of two tensors, for mu and sig2, with shapes (K, 1) where K is the number\n",
    "                    of chains\n",
    "        num_burnin_steps: number of burn-in steps see `tensorflow_probability.mcmc.sample_chain`\n",
    "        num_results: number of results per chain see `tensorflow_probability.mcmc.sample_chain`\n",
    "        step_size: size of the step for HMC\n",
    "        num_leapfrog_steps: see HMC\n",
    "        \n",
    "    Returns:\n",
    "    --------\n",
    "        A list of tensors ([mu, sig2]) with the results. The shape of the tensors includes number of results and \n",
    "        number of chains\n",
    "    \"\"\"\n",
    "    \n",
    "    # basic kernel\n",
    "    hmc_kernel = tfp.mcmc.HamiltonianMonteCarlo(\n",
    "        target_log_prob_fn=log_post_func,\n",
    "        num_leapfrog_steps=num_leapfrog_steps,\n",
    "        step_size=step_size\n",
    "    )\n",
    "    \n",
    "    ahmc_kernel = tfp.mcmc.SimpleStepSizeAdaptation(\n",
    "        inner_kernel=hmc_kernel,\n",
    "        num_adaptation_steps=int(num_burnin_steps * 0.8)\n",
    "    )\n",
    "    \n",
    "    sampled_chain = tfp.mcmc.sample_chain(\n",
    "        kernel=ahmc_kernel,\n",
    "        trace_fn=None,\n",
    "        current_state=init_state,\n",
    "        num_burnin_steps=num_burnin_steps,\n",
    "        num_results=num_results\n",
    "    )\n",
    "    \n",
    "    return sampled_chain\n",
    "\n",
    "###############\n",
    "\n",
    "prior_distribution = get_prior_distribution(\n",
    "    prior_nu=2,# two degrees of freedom to fix sig2 and mu\n",
    "    prior_sig2=1.0,\n",
    "    prior_mu=0.0\n",
    ")\n",
    "\n",
    "# rig the posterior log-probability so that it only needs\n",
    "# two inputs\n",
    "rigged_log_post_func = lambda mu, sig2: \\\n",
    "    log_post_prob(\n",
    "        mu=mu, \n",
    "        sig2=sig2,\n",
    "        prior_distribution=prior_distribution,\n",
    "        log_lkhd_func=log_lkhd,\n",
    "        data=tf.constant(sampled_data, dtype=tf.float32)\n",
    "    )\n",
    "\n",
    "# set-up initial state\n",
    "# list of tensors, one tensor per parameter\n",
    "# here the parameters are mean and variance, so two parameters\n",
    "# the shape of the tensors should be (*, 1) where the number of elements along the zeroth\n",
    "# dimension determines the number of chains\n",
    "chain_count = 100\n",
    "# will initialize chains from prior\n",
    "initial_tens_dict = prior_distribution.sample(chain_count)\n",
    "\n",
    "mcmc_init_state = [\n",
    "    tf.reshape(initial_tens_dict['mu'], shape=[chain_count, 1]),\n",
    "    tf.reshape(initial_tens_dict['sig2'], shape=[chain_count, 1])\n",
    "]\n",
    "\n",
    "num_burnin_steps = 10000\n",
    "samples_per_chain = 100\n",
    "\n",
    "####\n",
    "print('Running chain')\n",
    "\n",
    "# run the chain\n",
    "sampler_choice = 'rmw'\n",
    "\n",
    "if sampler_choice == 'hmc':\n",
    "    chain_list = hmc_mcmc_sample(\n",
    "        log_post_func=rigged_log_post_func,\n",
    "        init_state=mcmc_init_state,\n",
    "        num_burnin_steps=num_burnin_steps,\n",
    "        num_results=samples_per_chain,\n",
    "        step_size=1.0,\n",
    "        num_leapfrog_steps=3\n",
    "    )\n",
    "else:\n",
    "    chain_list = rwm_mcmc_sample(\n",
    "        log_post_func=rigged_log_post_func,\n",
    "        init_state=mcmc_init_state,\n",
    "        num_burnin_steps=num_burnin_steps,\n",
    "        num_results=samples_per_chain\n",
    "    )\n",
    "\n",
    "print('Done')"
   ]
  },
  {
   "cell_type": "markdown",
   "id": "6d6c9517-ee7d-4898-ad53-2861e31ac93f",
   "metadata": {},
   "source": [
    "Unpack into numpy for convenience"
   ]
  },
  {
   "cell_type": "code",
   "execution_count": 6,
   "id": "b6de31b5-7476-4831-9417-93f6f06dee17",
   "metadata": {},
   "outputs": [],
   "source": [
    "# unpack to dictionary\n",
    "key_order = [\n",
    "    'mu',\n",
    "    'sig2'\n",
    "]\n",
    "#\n",
    "results_dict = {\n",
    "    key: chain_list[i_key].numpy().reshape(-1)\n",
    "    for i_key, key in enumerate(key_order)\n",
    "}"
   ]
  },
  {
   "cell_type": "markdown",
   "id": "240e4145-6011-439e-ba0f-fa873b3797b3",
   "metadata": {},
   "source": [
    "## Inspect results"
   ]
  },
  {
   "cell_type": "markdown",
   "id": "8acc3a43-4570-4d92-a783-ef36fbb4d4b6",
   "metadata": {},
   "source": [
    "Plot the results comparing the target values with frequentist and numerical Bayesian estimates"
   ]
  },
  {
   "cell_type": "code",
   "execution_count": 7,
   "id": "45d18ba0-0710-4118-bb06-cd23a46968ba",
   "metadata": {},
   "outputs": [
    {
     "data": {
      "image/png": "[encoded data removed]",
      "text/plain": [
       "<Figure size 1440x504 with 2 Axes>"
      ]
     },
     "metadata": {
      "needs_background": "light"
     },
     "output_type": "display_data"
    }
   ],
   "source": [
    "fig, ax_list = pp.subplots(1, len(results_dict), figsize=(10*len(results_dict), 7))\n",
    "\n",
    "# choose confince interval\n",
    "confidence_level = 0.9\n",
    "lw = 3\n",
    " \n",
    "# mark where the actual chosen values were\n",
    "ax_list[0].axvline(\n",
    "    chosen_mu, linestyle='--',\n",
    "    color='r',\n",
    "    label=f'target value ({chosen_mu:.2f})',\n",
    "    linewidth=lw\n",
    ")\n",
    "#\n",
    "ax_list[1].axvline(\n",
    "    chosen_sig2,\n",
    "    linestyle='--',\n",
    "    color='r',\n",
    "    label=f'target value ({chosen_sig2:.2f})',\n",
    "    linewidth=lw\n",
    ")\n",
    "\n",
    "# work out the confidence interval that corresponds to frequentist statistics\n",
    "sample_mean = np.mean(sampled_data)\n",
    "sample_variance = np.sum((sampled_data-sample_mean)**2)/(len(sampled_data)-1)\n",
    "#\n",
    "t_ci_lim_norm = sp_stats.t(df=len(sampled_data)-1).ppf([(1-confidence_level)/2, 1-(1-confidence_level)/2])\n",
    "freq_mu_lim = sample_mean + t_ci_lim_norm * np.sqrt(sample_variance/len(sampled_data))\n",
    "#\n",
    "ax_list[0].axvline(\n",
    "    np.min(freq_mu_lim),\n",
    "    linestyle='--',\n",
    "    color='green',\n",
    "    label=f'lower freq limit ({min(freq_mu_lim):.3f})',\n",
    "    linewidth=lw\n",
    ")\n",
    "#\n",
    "ax_list[0].axvline(\n",
    "    np.max(freq_mu_lim),\n",
    "    linestyle='--',\n",
    "    color='green',\n",
    "    label=f'upper freq limit ({max(freq_mu_lim):.3f})',\n",
    "    linewidth=lw\n",
    ")\n",
    "#####################\n",
    "chi2_ci_lim_norm = sp_stats.chi2(df=len(sampled_data)-1).ppf([(1-confidence_level)/2, 1-(1-confidence_level)/2])\n",
    "freq_sig2_lim = (len(sampled_data)-1)*sample_variance/chi2_ci_lim_norm\n",
    "#\n",
    "ax_list[1].axvline(\n",
    "    np.min(freq_sig2_lim),\n",
    "    linestyle='--',\n",
    "    color='green',\n",
    "    label=f'lower freq limit ({min(freq_sig2_lim):.3f})',\n",
    "    linewidth=lw\n",
    ")\n",
    "#\n",
    "ax_list[1].axvline(\n",
    "    np.max(freq_sig2_lim),\n",
    "    linestyle='--',\n",
    "    color='green',\n",
    "    label=f'upper freq limit ({max(freq_sig2_lim):.3f})',\n",
    "    linewidth=lw\n",
    ")\n",
    "#\n",
    "  \n",
    "#################\n",
    "# plot results\n",
    "for i_key, ((key, arr), ax) in enumerate(zip(results_dict.items(), ax_list)):\n",
    "    clean_arr = arr[np.isnan(arr)==False]\n",
    "    \n",
    "    # compute confidence interval for the specific param\n",
    "    ci_min = np.quantile(clean_arr, (1-confidence_level)/2)\n",
    "    ci_max = np.quantile(clean_arr, 1-(1-confidence_level)/2)\n",
    "    \n",
    "    ax.hist(\n",
    "        arr,\n",
    "        bins=50,\n",
    "        label=f'{key}: [{ci_min:.3f}, {ci_max:.3f}]',\n",
    "        color=cm.tab10(i_key),\n",
    "        density=True\n",
    "    )\n",
    "    #\n",
    "    ax.axvline(ci_min, linestyle='--', color='k', label='Bayesian CI', linewidth=lw)\n",
    "    ax.axvline(ci_max, linestyle='--', color='k', label='Bayesian CI', linewidth=lw)\n",
    "    #\n",
    "    ax.grid()\n",
    "    ax.legend()\n",
    "    ax.set_xlabel(f'{key}')\n",
    "    ax.set_ylabel('count as density')\n",
    "    \n",
    "    ci_width = ci_max-ci_min\n",
    "    ci_mid = (ci_max+ci_min)/2\n",
    "    ax.set_xlim([ci_mid-ci_width, ci_mid+ci_width])\n",
    "    \n",
    "##\n",
    "\n"
   ]
  },
  {
   "cell_type": "markdown",
   "id": "46dded41-52a3-486c-ab5d-b2317069382e",
   "metadata": {},
   "source": [
    "Simple Random Metropolis Walk seems to offer the best results so far. Next thing to try is to contrain the inputs, i.e. map them from real-valued line to something better suited.\n",
    "\n",
    "It is note-worthy that with few thousand points there is considerable uncertainty in pinning down the variance. However, one should also note that frequentist uncretainty, based on confidence intervals for sample variance statistic, is of the same magnitude as numerical Bayesian."
   ]
  },
  {
   "cell_type": "code",
   "execution_count": null,
   "id": "759222f7-6880-4d7b-97e1-e450e3d29994",
   "metadata": {},
   "outputs": [],
   "source": []
  }
 ],
 "metadata": {
  "kernelspec": {
   "display_name": "Python 3 (ipykernel)",
   "language": "python",
   "name": "python3"
  },
  "language_info": {
   "codemirror_mode": {
    "name": "ipython",
    "version": 3
   },
   "file_extension": ".py",
   "mimetype": "text/x-python",
   "name": "python",
   "nbconvert_exporter": "python",
   "pygments_lexer": "ipython3",
   "version": "3.9.7"
  }
 },
 "nbformat": 4,
 "nbformat_minor": 5
}

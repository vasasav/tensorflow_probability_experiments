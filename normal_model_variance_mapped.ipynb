{
 "cells": [
  {
   "cell_type": "markdown",
   "id": "0ca67acd-7d37-4bb5-ada2-cd205ee83465",
   "metadata": {},
   "source": [
    "# Normal model parameter recovery with mapped variance\n",
    "\n",
    "Starting from $X\\sim N\\left(\\mu,\\,\\sigma^2\\right)$ use Bayesian approach to sample from probability distirbutions for $\\sigma^2$ and $\\mu$. Instead of directly treating variance as one of the variables, map it into $\\lambda=\\log\\sigma^2$"
   ]
  },
  {
   "cell_type": "code",
   "execution_count": 1,
   "id": "57502351-e1d4-4b32-9e46-769392e5ea95",
   "metadata": {},
   "outputs": [
    {
     "name": "stderr",
     "output_type": "stream",
     "text": [
      "2021-10-30 03:04:27.211920: W tensorflow/stream_executor/platform/default/dso_loader.cc:64] Could not load dynamic library 'libcudart.so.11.0'; dlerror: libcudart.so.11.0: cannot open shared object file: No such file or directory\n",
      "2021-10-30 03:04:27.211940: I tensorflow/stream_executor/cuda/cudart_stub.cc:29] Ignore above cudart dlerror if you do not have a GPU set up on your machine.\n"
     ]
    }
   ],
   "source": [
    "import numpy as np\n",
    "\n",
    "import matplotlib as mpl\n",
    "import matplotlib.pyplot as pp\n",
    "import matplotlib.cm as cm\n",
    "\n",
    "import tensorflow as tf\n",
    "import tensorflow_probability as tfp\n",
    "\n",
    "import typing as tp\n",
    "\n",
    "import scipy as sp\n",
    "import scipy.stats as sp_stats\n",
    "import scipy.special as sp_spec"
   ]
  },
  {
   "cell_type": "markdown",
   "id": "9ead6ee4-c0db-43f8-9524-3ed29ac97bec",
   "metadata": {},
   "source": [
    "## Probabilistic model\n",
    "\n",
    "The data will be assumed to arise from a normal distribution with mean $\\mu$ and variance $\\sigma^2$\n",
    "\n",
    "$$\n",
    "x\\sim N\\left(\\mu,\\,\\sigma^2\\right)=N\\left(\\mu,\\,\\exp\\left(\\lambda\\right)\\right)\n",
    "$$\n",
    "\n",
    "The prior for the mean will be normal distribution with mean $\\mu_0$ and variance $\\sigma^2/\\left(\\nu+1\\right)$ where a good candidate for $\\mu_0$ is sample mean. $\\nu$ is the number of degrees of freedom used for the prior:\n",
    "\n",
    "$$\n",
    "\\mu\\sim N\\left(\\mu_0,\\,\\sigma^2/\\nu\\right)=N\\left(\\mu_0,\\,\\exp\\left(\\lambda\\right)/\\nu\\right)\n",
    "$$\n",
    "\n",
    "The distribution for variance will be the inverse chi-2 with scale parameter $s^2$ (sample variance) and $\\nu$ as the number of degrees of freedom:\n",
    "\n",
    "$$\n",
    "\\sigma^2 \\sim \\mbox{Inv-}\\chi^2\\left(\\nu,\\,s^2\\right)=\\mbox{Inv-}\\Gamma\\left(\\frac{\\nu}{2},\\,\\frac{\\nu s^2}{2}\\right)\n",
    "$$\n",
    "\n",
    "Conveniently, the distribution for $\\exp\\left(\\lambda\\right)=\\sigma^2$ is then $\\mbox{Exp-Inv-}\\Gamma$"
   ]
  },
  {
   "cell_type": "markdown",
   "id": "05150214-005d-426c-add2-f31a89ffe008",
   "metadata": {},
   "source": [
    "### PDF for $\\lambda$"
   ]
  },
  {
   "cell_type": "markdown",
   "id": "8477fc5e-dd42-40de-ac01-d0ceeecaf74e",
   "metadata": {},
   "source": [
    "The analytic expression for the pdf of $\\lambda$ is:\n",
    "\n",
    "$$\n",
    "p\\left(\\lambda\\right)\\,d\\lambda=\\frac{1}{\\Gamma\\left(\\frac{\\nu}{2}\\right)}\\cdot\\left(\\frac{\\nu s^2}{2 e^\\lambda}\\right)^{\\frac{\\nu}{2}}\\cdot\\exp\\left(-\\left(\\frac{\\nu s^2}{2 e^\\lambda}\\right)\\right)\\,d\\lambda\n",
    "$$\n",
    "\n",
    "Below, I want to compare it with what is provided by TFP. In particular, it should be that:\n",
    "\n",
    "$$\n",
    "\\lambda \\sim \\mbox{Exp-Inv-}\\Gamma\\left(\\frac{\\nu}{2},\\,\\frac{\\nu s^2}{2}\\right)\n",
    "$$"
   ]
  },
  {
   "cell_type": "code",
   "execution_count": 2,
   "id": "00ebf619-e482-4450-b271-be6a19e4cd95",
   "metadata": {},
   "outputs": [
    {
     "name": "stderr",
     "output_type": "stream",
     "text": [
      "2021-10-30 03:04:28.466820: W tensorflow/stream_executor/platform/default/dso_loader.cc:64] Could not load dynamic library 'libcuda.so.1'; dlerror: libcuda.so.1: cannot open shared object file: No such file or directory\n",
      "2021-10-30 03:04:28.466839: W tensorflow/stream_executor/cuda/cuda_driver.cc:269] failed call to cuInit: UNKNOWN ERROR (303)\n",
      "2021-10-30 03:04:28.466856: I tensorflow/stream_executor/cuda/cuda_diagnostics.cc:156] kernel driver does not appear to be running on this host (cryo-Latitude-7300): /proc/driver/nvidia/version does not exist\n",
      "2021-10-30 03:04:28.467064: I tensorflow/core/platform/cpu_feature_guard.cc:142] This TensorFlow binary is optimized with oneAPI Deep Neural Network Library (oneDNN) to use the following CPU instructions in performance-critical operations:  AVX2 FMA\n",
      "To enable them in other operations, rebuild TensorFlow with the appropriate compiler flags.\n",
      "2021-10-30 03:04:28.640654: I tensorflow/compiler/mlir/mlir_graph_optimization_pass.cc:185] None of the MLIR Optimization Passes are enabled (registered 2)\n"
     ]
    },
    {
     "data": {
      "text/plain": [
       "<matplotlib.legend.Legend at 0x7f70b07898b0>"
      ]
     },
     "execution_count": 2,
     "metadata": {},
     "output_type": "execute_result"
    },
    {
     "data": {
      "image/png": "[encoded data removed]",
      "text/plain": [
       "<Figure size 576x360 with 1 Axes>"
      ]
     },
     "metadata": {
      "needs_background": "light"
     },
     "output_type": "display_data"
    }
   ],
   "source": [
    "nu = 3\n",
    "s2 = 1.0\n",
    "\n",
    "### compute basic numpy representation\n",
    "lam_arr = np.linspace(-10, 10, 100)\n",
    "arg_arr = (nu * s2)/(2 * np.exp(lam_arr))\n",
    "#\n",
    "pdf_lam_arr = (1/sp_spec.gamma(nu/2)) * ((arg_arr)**(nu/2)) * np.exp(-arg_arr)\n",
    "\n",
    "\n",
    "### compute TFP representation\n",
    "exp_inv_gamma = tfp.distributions.ExpInverseGamma(nu/2, nu*s2/2)\n",
    "#\n",
    "tfp_pdf_lam_arr = exp_inv_gamma.prob(lam_arr).numpy()\n",
    "sampled_lam = exp_inv_gamma.sample(5000).numpy()\n",
    "\n",
    "fig, ax = pp.subplots(figsize=(8, 5))\n",
    "ax.plot(lam_arr, pdf_lam_arr, linewidth=5, color='k', label='analytic')\n",
    "ax.plot(lam_arr, tfp_pdf_lam_arr, color='r', label='TFP')\n",
    "_ = ax.hist(sampled_lam, density=True, bins=100, alpha=0.5, color='orange', label='sampled')\n",
    "ax.grid()\n",
    "ax.legend()\n",
    "#ax.set_yscale('log')\n",
    "#ax.set_ylim([max(pdf_lam_arr)*1e-5, max(pdf_lam_arr)*2])"
   ]
  },
  {
   "cell_type": "markdown",
   "id": "863274cc-18a0-468b-8507-9079e672f0be",
   "metadata": {},
   "source": [
    "Indeed, the match between expected and implemented distirbutions is good"
   ]
  },
  {
   "cell_type": "markdown",
   "id": "68faacda-f9f2-40bc-a8d0-e17983441864",
   "metadata": {},
   "source": [
    "### Summary\n",
    "\n",
    "With that, the probabilistic model is:\n",
    "\n",
    "$$\n",
    "\\begin{align}\n",
    "\\left(x_1,\\dots\\right)\\,\\Big|\\,\\mu,\\,\\lambda &\\sim N\\left(\\mu,\\,\\exp\\left(\\lambda\\right)\\mbox{Id}\\right) \\\\\n",
    "\\mu \\,\\Big|\\,\\lambda &\\sim N\\left(\\bar{x},\\,\\frac{\\exp\\left(\\lambda\\right)}{\\nu+1}\\right) \\\\\n",
    "\\lambda &\\sim \\mbox{Exp-Inv-}\\Gamma\\left(\\frac{\\nu}{2},\\frac{\\nu s^2}{2}\\right)\n",
    "\\end{align}\n",
    "$$"
   ]
  },
  {
   "cell_type": "code",
   "execution_count": 3,
   "id": "4d40f95e-38fd-4b48-be86-2680f574ebb0",
   "metadata": {},
   "outputs": [
    {
     "name": "stdout",
     "output_type": "stream",
     "text": [
      "WARNING:tensorflow:@custom_gradient grad_fn has 'variables' in signature, but no ResourceVariables were used on the forward pass.\n"
     ]
    },
    {
     "data": {
      "text/plain": [
       "Text(0.5, 1.0, 'Marginal prior for $\\\\sigma^2$')"
      ]
     },
     "execution_count": 3,
     "metadata": {},
     "output_type": "execute_result"
    },
    {
     "data": {
      "image/png": "[encoded data removed]",
      "text/plain": [
       "<Figure size 1080x432 with 2 Axes>"
      ]
     },
     "metadata": {
      "needs_background": "light"
     },
     "output_type": "display_data"
    }
   ],
   "source": [
    "def get_prior_distribution(\n",
    "    prior_nu: int=5,\n",
    "    prior_s2: float=1.0,\n",
    "    prior_xbar: float=0.0\n",
    ")->tfp.distributions.JointDistribution:\n",
    "    \"\"\"\n",
    "    Given key parameters initialize and return prior distribution for mean and variance of the normal model. The names\n",
    "    for the variables are `lam` for logarithm of variance and `mu` for mean, in that order\n",
    "    \n",
    "    Arguments:\n",
    "    ----------\n",
    "        prior_nu: equivalent to degrees of freedom -1 for the prior sample of data\n",
    "        prior_s2: equivalent prior sample variance\n",
    "        prior_xbar: equivalent priior sample mean\n",
    "        \n",
    "    Returns:\n",
    "    --------\n",
    "        joint distribution for `lam` and `mu`\n",
    "    \"\"\"\n",
    "    \n",
    "    # wrap the inputs to avoid float32/float64 clases\n",
    "    tf_prior_nu = tf.constant(prior_nu, dtype=tf.float32)\n",
    "    tf_prior_s2 = tf.constant(prior_s2, dtype=tf.float32)\n",
    "    tf_prior_xbar = tf.constant(prior_xbar, dtype=tf.float32)\n",
    "    \n",
    "    # NB! in TFP the specification is to pass standard deviation rather than variance!\n",
    "    prior_distribution = tfp.distributions.JointDistributionNamed({\n",
    "        'lam': tfp.distributions.ExpInverseGamma( tf_prior_nu/2., tf_prior_nu*tf_prior_s2/2. ),\n",
    "        'mu': lambda lam: tfp.distributions.Normal( tf_prior_xbar, tf.sqrt(tf.exp(lam)/(tf_prior_nu+1)) )\n",
    "    })\n",
    "    \n",
    "    return prior_distribution\n",
    "\n",
    "####\n",
    "\n",
    "prior_distribution = get_prior_distribution(\n",
    "    prior_nu=10,\n",
    "    prior_s2=1.,\n",
    "    prior_xbar=0.0\n",
    ")\n",
    "prior_samples = prior_distribution.sample(10000)\n",
    "\n",
    "fig, (ax, ax2) = pp.subplots(1, 2, figsize=(15, 6))\n",
    "#\n",
    "_ = ax.hist(prior_samples['mu'].numpy(), density=True, bins=100, color=cm.tab10(0))\n",
    "ax.set_xlabel('$\\mu$')\n",
    "ax.set_ylabel('Counts as density')\n",
    "ax.grid()\n",
    "ax.set_title('Marginal prior for $\\mu$')\n",
    "#\n",
    "_ = ax2.hist(np.exp(prior_samples['lam'].numpy()), density=True, bins=100, color=cm.tab10(1))\n",
    "ax2.set_xlabel('$\\sigma^2$')\n",
    "ax2.set_ylabel('Counts as density')\n",
    "ax2.grid()\n",
    "ax2.set_title('Marginal prior for $\\sigma^2$')"
   ]
  },
  {
   "cell_type": "markdown",
   "id": "12fff1d0-c98e-4201-9803-43805e83d142",
   "metadata": {},
   "source": [
    "## Prepare samples\n",
    "\n",
    "Samples which will be used to extract the chosen parameters of the normal distribution"
   ]
  },
  {
   "cell_type": "code",
   "execution_count": 4,
   "id": "22ce0532-b02c-4e22-9b8b-4bd97dc7c968",
   "metadata": {},
   "outputs": [
    {
     "data": {
      "text/plain": [
       "Text(0, 0.5, 'Counts as density')"
      ]
     },
     "execution_count": 4,
     "metadata": {},
     "output_type": "execute_result"
    },
    {
     "data": {
      "image/png": "[encoded data removed]",
      "text/plain": [
       "<Figure size 432x288 with 1 Axes>"
      ]
     },
     "metadata": {
      "needs_background": "light"
     },
     "output_type": "display_data"
    }
   ],
   "source": [
    "chosen_sig2 = 0.5\n",
    "chosen_lam = np.log(chosen_sig2)\n",
    "chosen_mu = -3.4\n",
    "chosen_sample_count = 500\n",
    "\n",
    "# NB! parametrization for TFP.Normal is by the standard deviation, not variance!\n",
    "sampled_data = tfp.distributions.Normal(\n",
    "    loc=chosen_mu, scale=np.sqrt(chosen_sig2)\n",
    ").sample(chosen_sample_count).numpy()\n",
    "\n",
    "fig, ax = pp.subplots()\n",
    "#\n",
    "_ = ax.hist(sampled_data, bins=50, density=True)\n",
    "ax.set_xlabel('x')\n",
    "ax.set_ylabel('Counts as density')"
   ]
  },
  {
   "cell_type": "markdown",
   "id": "e7451d88-e9da-4e70-8e2b-d866be959afe",
   "metadata": {},
   "source": [
    "## Log-likelihood and prior/posterior "
   ]
  },
  {
   "cell_type": "code",
   "execution_count": 5,
   "id": "9f262eb4-748d-4102-8130-7ebac7776be2",
   "metadata": {},
   "outputs": [
    {
     "name": "stdout",
     "output_type": "stream",
     "text": [
      "WARNING:tensorflow:@custom_gradient grad_fn has 'variables' in signature, but no ResourceVariables were used on the forward pass.\n",
      "tf.Tensor(\n",
      "[[ -686.6351 -3285.2727 -2031.8918]\n",
      " [-1435.9152 -5205.901  -1285.404 ]], shape=(2, 3), dtype=float32)\n"
     ]
    }
   ],
   "source": [
    "def log_lkhd(\n",
    "    mu: tf.Tensor,\n",
    "    lam: tf.Tensor,\n",
    "    data: tf.Tensor=tf.constant(sampled_data)\n",
    ")->tf.Tensor:\n",
    "    \"\"\"\n",
    "    Compute likelihood for data points given mean and variance (mu, lam). Incoming mu and lam can \n",
    "    be tensors. data is assumed to be a 1d tensor. Internally data extended into a [N, *] shape where\n",
    "    N is the number of data points along the zeroth dimnesion of `data` argument, and * are the common\n",
    "    dimensions of mu and sig2. \n",
    "    \n",
    "    Assumed model is: x~N(mu, exp(lam))\n",
    "    \n",
    "    After expansion, the log_probability for all individual data points is computed, for all values in mu, lam.\n",
    "    The result is then collapsed along the zeroth dimension. The resulting [*]-dimensional tensor, with log-prob\n",
    "    for all points, is returned\n",
    "    \n",
    "    Arguments:\n",
    "    ----------\n",
    "        mu: tensor of mean values\n",
    "        lam: tensor of logarithm of variances, same shape as mu, this is not a multivariate model. All cells\n",
    "            of mu and lam are simply processed in parallel\n",
    "            \n",
    "        data: data points, an (N,)-shaped tensor\n",
    "        \n",
    "    Returns:\n",
    "    --------\n",
    "        Tensor of log-likelihooeds\n",
    "    \"\"\"\n",
    "    \n",
    "    # reshape to have data running along the zeroth axis, with lam and mu running along others\n",
    "    data_reshaped = tf.reshape(data, [data.shape[0], *[1 for _ in mu.shape]])\n",
    "    \n",
    "    # define probabilistic model\n",
    "    data_model = tfp.distributions.Normal(mu, tf.sqrt(tf.exp(lam)))\n",
    "    \n",
    "    # compute log-likelihood\n",
    "    log_lkhd_per_sample = data_model.log_prob(data_reshaped)\n",
    "    \n",
    "    # collapse along zeroth dimension, to get probability for all data points\n",
    "    log_lkhd_agg = tf.reduce_sum(log_lkhd_per_sample, axis=0)\n",
    "    \n",
    "    return log_lkhd_agg\n",
    "\n",
    "####\n",
    "\n",
    "def log_post_prob(\n",
    "    mu: tf.Tensor,\n",
    "    lam: tf.Tensor,\n",
    "    prior_distribution: tfp.distributions.JointDistribution,\n",
    "    log_lkhd_func: tp.Callable[[tf.Tensor, tf.Tensor, tf.Tensor], tf.Tensor],\n",
    "    data: tf.Tensor=tf.constant(sampled_data)\n",
    ")->tf.Tensor:\n",
    "    \"\"\"\n",
    "    Compute log of non-normalized posterior distribution given prior, data and likelihood\n",
    "    \n",
    "    Arguments:\n",
    "    ----------\n",
    "        mu: mean for the model - trying to fit that. tensor with arbitrary shape\n",
    "        lam: logarithm of variance for the model, same as mu\n",
    "        prior_distribution: Joint prior probability distribution for the data. Should take in `lam` and \n",
    "            `mu` as inputs and return log-probability of prior beliefs (via `log_prob`)\n",
    "            \n",
    "        log_lkhd_func: function that takes in mu, sig2 and data, as tensors, and returns the \n",
    "            log-likelihood for all the data points, given mu and lam. See `log_lkhd`\n",
    "        data: (N,)-shaped tensor of data points for N data points\n",
    "        \n",
    "    Returns:\n",
    "    --------\n",
    "        tensor of posterior log-probabilities, that is shaped like mu and sig\n",
    "    \"\"\"\n",
    "    \n",
    "    # compute prior log-probability\n",
    "    log_prior_tens = prior_distribution.log_prob(lam=lam, mu=mu)\n",
    "    \n",
    "    # compute likelihood\n",
    "    log_lkhd_tens = log_lkhd_func(mu, lam, data)\n",
    "    \n",
    "    # compute posterior log-prob\n",
    "    log_post_tens = log_lkhd_tens + log_prior_tens\n",
    "    \n",
    "    return log_post_tens\n",
    "\n",
    "\n",
    "####\n",
    "\n",
    "\n",
    "prior_distribution = get_prior_distribution(\n",
    "    prior_nu=10,\n",
    "    prior_s2=1.,\n",
    "    prior_xbar=0.0\n",
    ")\n",
    "\n",
    "print(\n",
    "    log_post_prob(\n",
    "        mu=tf.constant([[chosen_mu, 0.2, 0.7], [-0.3, 0.7, -0.9]]), \n",
    "        lam=tf.math.log(tf.constant([[chosen_sig2, 1.2, 3.4], [4.0, 0.9, 3.1]])),\n",
    "        prior_distribution=prior_distribution,\n",
    "        log_lkhd_func=log_lkhd,\n",
    "        data=tf.constant(sampled_data, dtype=tf.float32)\n",
    "    )\n",
    ")"
   ]
  },
  {
   "cell_type": "markdown",
   "id": "77e9ee53-3254-4765-bd7a-8b49227020ab",
   "metadata": {},
   "source": [
    "## MCMC sampling\n",
    "\n",
    "Next, use Markov-Chain Monte Carlo to sample from log-posterior"
   ]
  },
  {
   "cell_type": "code",
   "execution_count": null,
   "id": "ad818bfc-1ad9-487a-b9a1-0f6dc6248296",
   "metadata": {},
   "outputs": [
    {
     "name": "stdout",
     "output_type": "stream",
     "text": [
      "WARNING:tensorflow:@custom_gradient grad_fn has 'variables' in signature, but no ResourceVariables were used on the forward pass.\n",
      "Running chain\n",
      "WARNING:tensorflow:@custom_gradient grad_fn has 'variables' in signature, but no ResourceVariables were used on the forward pass.\n",
      "WARNING:tensorflow:@custom_gradient grad_fn has 'variables' in signature, but no ResourceVariables were used on the forward pass.\n"
     ]
    },
    {
     "name": "stderr",
     "output_type": "stream",
     "text": [
      "2021-10-30 03:04:30.515063: I tensorflow/compiler/xla/service/service.cc:171] XLA service 0x55969fffd9a0 initialized for platform Host (this does not guarantee that XLA will be used). Devices:\n",
      "2021-10-30 03:04:30.515091: I tensorflow/compiler/xla/service/service.cc:179]   StreamExecutor device (0): Host, Default Version\n",
      "2021-10-30 03:04:30.557671: I tensorflow/compiler/mlir/tensorflow/utils/dump_mlir_util.cc:210] disabling MLIR crash reproducer, set env var `MLIR_CRASH_REPRODUCER_DIRECTORY` to enable.\n",
      "2021-10-30 03:04:30.634629: W tensorflow/compiler/tf2xla/kernels/random_ops.cc:96] Warning: Using tf.random.uniform with XLA compilation will ignore seeds; consider using tf.random.stateless_uniform instead if reproducible behavior is desired. sanitize_seed/seed\n",
      "2021-10-30 03:04:32.942300: I tensorflow/compiler/jit/xla_compilation_cache.cc:363] Compiled cluster using XLA!  This line is logged at most once for the lifetime of the process.\n"
     ]
    }
   ],
   "source": [
    "######### RANDOM-WALK METROPOLIS\n",
    "@tf.function(jit_compile=True)\n",
    "def rwm_mcmc_sample(\n",
    "    log_post_func: tp.Callable[[tf.Tensor, tf.Tensor], tf.Tensor],\n",
    "    init_state: tp.List[tf.Tensor],\n",
    "    num_burnin_steps: int=1000,\n",
    "    num_results: int=100\n",
    ")->tf.Tensor:\n",
    "    \"\"\"\n",
    "    Run MCMC using basic RandomWalkMetropolis.\n",
    "    \n",
    "    Arguments:\n",
    "    ----------\n",
    "        log_post_func: function that accepts tensors for mu and lam and returns log-probability for the posterior\n",
    "        init_state: initial state for MCMC, list of two tensors, for mu and lam, with shapes (K, 1) where K is the number\n",
    "                    of chains\n",
    "        num_burnin_steps: number of burn-in steps see `tensorflow_probability.mcmc.sample_chain`\n",
    "        num_results: number of results per chain see `tensorflow_probability.mcmc.sample_chain`\n",
    "        \n",
    "    Returns:\n",
    "    --------\n",
    "        A list of tensors ([mu, lam]) with the results. The shape of the tensors includes number of results and \n",
    "        number of chains\n",
    "    \"\"\"\n",
    "    \n",
    "    # basic kernel\n",
    "    rwm_kernel = tfp.mcmc.RandomWalkMetropolis(\n",
    "        target_log_prob_fn=log_post_func\n",
    "    )\n",
    "    \n",
    "    # sample chain\n",
    "    sampled_chain = tfp.mcmc.sample_chain(\n",
    "        kernel=rwm_kernel,\n",
    "        trace_fn=None,\n",
    "        current_state=init_state,\n",
    "        num_burnin_steps=num_burnin_steps,\n",
    "        num_results=num_results\n",
    "    )\n",
    "    \n",
    "    return sampled_chain\n",
    "\n",
    "######### HMC\n",
    "\n",
    "@tf.function(jit_compile=True)\n",
    "def hmc_mcmc_sample(\n",
    "    log_post_func: tp.Callable[[tf.Tensor, tf.Tensor], tf.Tensor],\n",
    "    init_state: tp.List[tf.Tensor],\n",
    "    num_burnin_steps: int=1000,\n",
    "    num_results: int=100,\n",
    "    step_size: float=0.05,\n",
    "    num_leapfrog_steps=3,\n",
    ")->tf.Tensor:\n",
    "    \"\"\"\n",
    "    Run MCMC using basic Hamiltonian Monte-Carlo\n",
    "    \n",
    "    Arguments:\n",
    "    ----------\n",
    "        log_post_func: function that accepts tensors for mu and lam and returns log-probability for the posterior\n",
    "        init_state: initial state for MCMC, list of two tensors, for mu and lam, with shapes (K, 1) where K is the number\n",
    "                    of chains\n",
    "        num_burnin_steps: number of burn-in steps see `tensorflow_probability.mcmc.sample_chain`\n",
    "        num_results: number of results per chain see `tensorflow_probability.mcmc.sample_chain`\n",
    "        step_size: size of the step for HMC\n",
    "        num_leapfrog_steps: see HMC\n",
    "        \n",
    "    Returns:\n",
    "    --------\n",
    "        A list of tensors ([mu, lam]) with the results. The shape of the tensors includes number of results and \n",
    "        number of chains\n",
    "    \"\"\"\n",
    "    \n",
    "    # basic kernel\n",
    "    hmc_kernel = tfp.mcmc.HamiltonianMonteCarlo(\n",
    "        target_log_prob_fn=log_post_func,\n",
    "        num_leapfrog_steps=num_leapfrog_steps,\n",
    "        step_size=step_size\n",
    "    )\n",
    "    \n",
    "    ahmc_kernel = tfp.mcmc.SimpleStepSizeAdaptation(\n",
    "        inner_kernel=hmc_kernel,\n",
    "        num_adaptation_steps=int(num_burnin_steps * 0.8)\n",
    "    )\n",
    "    \n",
    "    sampled_chain = tfp.mcmc.sample_chain(\n",
    "        kernel=ahmc_kernel,\n",
    "        trace_fn=None,\n",
    "        current_state=init_state,\n",
    "        num_burnin_steps=num_burnin_steps,\n",
    "        num_results=num_results\n",
    "    )\n",
    "    \n",
    "    return sampled_chain\n",
    "\n",
    "\n",
    "###############\n",
    "\n",
    "sample_mean = np.mean(sampled_data)\n",
    "sample_variance = np.sum((sampled_data-sample_mean)**2)/(len(sampled_data)-1)\n",
    "\n",
    "prior_distribution = get_prior_distribution(\n",
    "    prior_nu=2,# two degrees of freedom to fix sig2 and mu\n",
    "    prior_s2=sample_variance,\n",
    "    prior_xbar=sample_mean\n",
    ")\n",
    "\n",
    "# rig the posterior log-probability so that it only needs\n",
    "# two inputs\n",
    "rigged_log_post_func = lambda mu, lam: \\\n",
    "    log_post_prob(\n",
    "        mu=mu, \n",
    "        lam=lam,\n",
    "        prior_distribution=prior_distribution,\n",
    "        log_lkhd_func=log_lkhd,\n",
    "        data=tf.constant(sampled_data, dtype=tf.float32)\n",
    "    )\n",
    "\n",
    "# set-up initial state\n",
    "# list of tensors, one tensor per parameter\n",
    "# here the parameters are mean and variance, so two parameters\n",
    "# the shape of the tensors should be (*, 1) where the number of elements along the zeroth\n",
    "# dimension determines the number of chains\n",
    "chain_count = 100\n",
    "# will initialize chains from prior\n",
    "initial_tens_dict = prior_distribution.sample(chain_count)\n",
    "\n",
    "mcmc_init_state = [\n",
    "    tf.reshape(initial_tens_dict['mu'], shape=[chain_count, 1]),\n",
    "    tf.reshape(initial_tens_dict['lam'], shape=[chain_count, 1])\n",
    "]\n",
    "\n",
    "num_burnin_steps = 500000\n",
    "samples_per_chain = 100\n",
    "\n",
    "####\n",
    "print('Running chain')\n",
    "\n",
    "# run the chain\n",
    "sampler_choice = 'hmc'\n",
    "\n",
    "if sampler_choice == 'hmc':\n",
    "    pass\n",
    "    chain_list = hmc_mcmc_sample(\n",
    "        log_post_func=rigged_log_post_func,\n",
    "        init_state=mcmc_init_state,\n",
    "        num_burnin_steps=num_burnin_steps,\n",
    "        num_results=samples_per_chain,\n",
    "        step_size=1.0,\n",
    "        num_leapfrog_steps=3\n",
    "    )\n",
    "else:\n",
    "    chain_list = rwm_mcmc_sample(\n",
    "        log_post_func=rigged_log_post_func,\n",
    "        init_state=mcmc_init_state,\n",
    "        num_burnin_steps=num_burnin_steps,\n",
    "        num_results=samples_per_chain\n",
    "    )\n",
    "\n",
    "print('Done')"
   ]
  },
  {
   "cell_type": "code",
   "execution_count": null,
   "id": "3513e485-5e85-4716-8b58-c8d43a3c4f28",
   "metadata": {},
   "outputs": [],
   "source": [
    "# unpack to dictionary\n",
    "key_order = [\n",
    "    'mu',\n",
    "    'lam'\n",
    "]\n",
    "#\n",
    "results_dict = {\n",
    "    key: chain_list[i_key].numpy().reshape(-1)\n",
    "    for i_key, key in enumerate(key_order)\n",
    "}\n",
    "\n",
    "results_dict = {}\n",
    "results_dict['mu'] = chain_list[0].numpy().reshape(-1)\n",
    "results_dict['sig2'] = np.exp(chain_list[1].numpy().reshape(-1))"
   ]
  },
  {
   "cell_type": "markdown",
   "id": "2279da5e-d71d-4075-ba5b-bea8359bd880",
   "metadata": {},
   "source": [
    "## Inspect results"
   ]
  },
  {
   "cell_type": "markdown",
   "id": "ffe3e892-1b65-484b-bc39-332ba2a0534f",
   "metadata": {},
   "source": [
    "Plot the results comparing the target values with frequentist and numerical Bayesian estimates"
   ]
  },
  {
   "cell_type": "code",
   "execution_count": null,
   "id": "bb81903f-ceb7-4ba1-9ecf-48b55a3b84ba",
   "metadata": {},
   "outputs": [],
   "source": [
    "fig, ax_list = pp.subplots(1, len(results_dict), figsize=(10*len(results_dict), 7))\n",
    "\n",
    "# choose confince interval\n",
    "confidence_level = 0.9\n",
    "lw = 3\n",
    " \n",
    "# mark where the actual chosen values were\n",
    "ax_list[0].axvline(\n",
    "    chosen_mu, linestyle='--',\n",
    "    color='r',\n",
    "    label=f'target value ({chosen_mu:.2f})',\n",
    "    linewidth=lw\n",
    ")\n",
    "#\n",
    "ax_list[1].axvline(\n",
    "    chosen_sig2,\n",
    "    linestyle='--',\n",
    "    color='r',\n",
    "    label=f'target value ({chosen_sig2:.2f})',\n",
    "    linewidth=lw\n",
    ")\n",
    "\n",
    "# work out the confidence interval that corresponds to frequentist statistics\n",
    "sample_mean = np.mean(sampled_data)\n",
    "sample_variance = np.sum((sampled_data-sample_mean)**2)/(len(sampled_data)-1)\n",
    "#\n",
    "t_ci_lim_norm = sp_stats.t(df=len(sampled_data)-1).ppf([(1-confidence_level)/2, 1-(1-confidence_level)/2])\n",
    "freq_mu_lim = sample_mean + t_ci_lim_norm * np.sqrt(sample_variance/len(sampled_data))\n",
    "#\n",
    "ax_list[0].axvline(\n",
    "    np.min(freq_mu_lim),\n",
    "    linestyle='--',\n",
    "    color='green',\n",
    "    label=f'lower freq limit ({min(freq_mu_lim):.3f})',\n",
    "    linewidth=lw\n",
    ")\n",
    "#\n",
    "ax_list[0].axvline(\n",
    "    np.max(freq_mu_lim),\n",
    "    linestyle='--',\n",
    "    color='green',\n",
    "    label=f'upper freq limit ({max(freq_mu_lim):.3f})',\n",
    "    linewidth=lw\n",
    ")\n",
    "#####################\n",
    "chi2_ci_lim_norm = sp_stats.chi2(df=len(sampled_data)-1).ppf([(1-confidence_level)/2, 1-(1-confidence_level)/2])\n",
    "freq_sig2_lim = (len(sampled_data)-1)*sample_variance/chi2_ci_lim_norm\n",
    "#\n",
    "ax_list[1].axvline(\n",
    "    np.min(freq_sig2_lim),\n",
    "    linestyle='--',\n",
    "    color='green',\n",
    "    label=f'lower freq limit ({min(freq_sig2_lim):.3f})',\n",
    "    linewidth=lw\n",
    ")\n",
    "#\n",
    "ax_list[1].axvline(\n",
    "    np.max(freq_sig2_lim),\n",
    "    linestyle='--',\n",
    "    color='green',\n",
    "    label=f'upper freq limit ({max(freq_sig2_lim):.3f})',\n",
    "    linewidth=lw\n",
    ")\n",
    "#\n",
    "  \n",
    "#################\n",
    "# plot results\n",
    "for i_key, ((key, arr), ax) in enumerate(zip(results_dict.items(), ax_list)):\n",
    "    clean_arr = arr[np.isnan(arr)==False]\n",
    "    \n",
    "    # compute confidence interval for the specific param\n",
    "    ci_min = np.quantile(clean_arr, (1-confidence_level)/2)\n",
    "    ci_max = np.quantile(clean_arr, 1-(1-confidence_level)/2)\n",
    "    \n",
    "    ax.hist(\n",
    "        arr,\n",
    "        bins=50,\n",
    "        label=f'{key}: [{ci_min:.3f}, {ci_max:.3f}]',\n",
    "        color=cm.tab10(i_key),\n",
    "        density=True\n",
    "    )\n",
    "    #\n",
    "    ax.axvline(ci_min, linestyle='--', color='k', label='Bayesian CI', linewidth=lw)\n",
    "    ax.axvline(ci_max, linestyle='--', color='k', label='Bayesian CI', linewidth=lw)\n",
    "    #\n",
    "    ax.grid()\n",
    "    ax.legend()\n",
    "    ax.set_xlabel(f'{key}')\n",
    "    ax.set_ylabel('count as density')\n",
    "    \n",
    "    ci_width = ci_max-ci_min\n",
    "    ci_mid = (ci_max+ci_min)/2\n",
    "    ax.set_xlim([ci_mid-ci_width, ci_mid+ci_width])\n",
    "    \n",
    "##\n",
    "\n",
    "ax_list[0].set_xlim([-4, -3])"
   ]
  },
  {
   "cell_type": "markdown",
   "id": "fccfe5b0-ccce-4aa4-a7c4-cd6e7f55b72c",
   "metadata": {},
   "source": [
    "The results are compareable with naive fitting of $\\sigma^2$, but the actual distribution for $\\sigma^2$ ends up being much smoother "
   ]
  },
  {
   "cell_type": "code",
   "execution_count": null,
   "id": "c600c2c2-08d2-4760-9054-f8b420fd305a",
   "metadata": {},
   "outputs": [],
   "source": []
  }
 ],
 "metadata": {
  "kernelspec": {
   "display_name": "Python 3 (ipykernel)",
   "language": "python",
   "name": "python3"
  },
  "language_info": {
   "codemirror_mode": {
    "name": "ipython",
    "version": 3
   },
   "file_extension": ".py",
   "mimetype": "text/x-python",
   "name": "python",
   "nbconvert_exporter": "python",
   "pygments_lexer": "ipython3",
   "version": "3.9.7"
  }
 },
 "nbformat": 4,
 "nbformat_minor": 5
}

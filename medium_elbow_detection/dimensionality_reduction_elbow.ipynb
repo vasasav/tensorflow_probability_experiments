{
 "cells": [
  {
   "cell_type": "markdown",
   "metadata": {},
   "source": [
    "# Post of elbow detection: dimensionality reduction\n",
    "\n",
    "The aim of this notebook is to generate some illustrative plots to motivate where elbow detection might be needed."
   ]
  },
  {
   "cell_type": "code",
   "execution_count": 1,
   "metadata": {},
   "outputs": [],
   "source": [
    "import numpy as np\n",
    "import numpy.random as npr\n",
    "\n",
    "import scipy as sp\n",
    "import scipy.stats as sp_sts\n",
    "\n",
    "import sklearn as sk\n",
    "import sklearn.decomposition as sk_dec\n",
    "\n",
    "import pandas as pd\n",
    "\n",
    "import matplotlib as mpl\n",
    "import matplotlib.pyplot as pp\n",
    "import matplotlib.cm as cm\n",
    "\n",
    "import IPython.display as ipyd\n",
    "\n",
    "import typing as tp"
   ]
  },
  {
   "cell_type": "markdown",
   "metadata": {},
   "source": [
    "## Generate random data\n",
    "\n",
    "Generate a cloud of normally distributed random data in $n$ dimensions. Firstly choose the number of independent variables, how many dimensions there will be overall, and how many points there will be"
   ]
  },
  {
   "cell_type": "code",
   "execution_count": 2,
   "metadata": {},
   "outputs": [],
   "source": [
    "independent_var_count = 32\n",
    "full_dimension_count = 64\n",
    "point_count = 70"
   ]
  },
  {
   "cell_type": "markdown",
   "metadata": {},
   "source": [
    "Next, generate normally distributed variables with different variances and then couple and embed them into the space with target dimensionality"
   ]
  },
  {
   "cell_type": "code",
   "execution_count": 3,
   "metadata": {},
   "outputs": [],
   "source": [
    "def get_random_cloud(\n",
    "    independent_var_count: int=independent_var_count,\n",
    "    full_dimension_count: int=full_dimension_count,\n",
    "    point_count: int=point_count\n",
    ")->np.ndarray:\n",
    "    # prepare variances\n",
    "    var_variance_arr = npr.rand(independent_var_count)\n",
    "\n",
    "    # prepare array with different variable in each column \n",
    "    # and observations along rows\n",
    "    obs_arr_list = []\n",
    "    #\n",
    "    for i_var, var_variance in enumerate(var_variance_arr):\n",
    "        cur_obs = npr.normal(loc=0.0, scale=np.sqrt(var_variance), size=point_count)\n",
    "        obs_arr_list.append(cur_obs)\n",
    "    #\n",
    "    obs_mat = np.stack(obs_arr_list, axis=1)\n",
    "\n",
    "    # generate a random othrogonal matrix and use it to mix variables and embed them into\n",
    "    # the space of target dimensionality\n",
    "    mix_mat = sp_sts.ortho_group.rvs(full_dimension_count)[:independent_var_count, :]\n",
    "    emb_obs_mat = obs_mat @ mix_mat\n",
    "    \n",
    "    return emb_obs_mat"
   ]
  },
  {
   "cell_type": "markdown",
   "metadata": {},
   "source": [
    "Orthogonal matrix here is used to get `full_dimension_count` random orthogonal column-vectors. These vectors are then truncated to  `independent_var_count` components, and are thus no longer orthogonal. These non-orthogonal columns are then\n",
    "used to couple `independent_var_count` realizations of independent random variables.\n",
    "\n",
    "The end result is that the cloud of normally distributed random variables, of dimension `independent_var_count` gets randomly rotated and embedded into space with dimensionality `full_dimension_count`.\n",
    "\n",
    "Another way of looking at it is that we get orthogonal row-vectors and selecting the first `independent_var_count` of them. We then embed the randomly generated data by assigning the first random variable to run along the direction of the first selected orthogonal row-vector etc."
   ]
  },
  {
   "cell_type": "markdown",
   "metadata": {},
   "source": [
    "## Apply PCA to estimate the dimensionality of the data\n",
    "\n",
    "Use principle component analysis to estimate the number of dimensions in the original dataset"
   ]
  },
  {
   "cell_type": "code",
   "execution_count": 4,
   "metadata": {},
   "outputs": [
    {
     "name": "stdout",
     "output_type": "stream",
     "text": [
      " (10)/(10) done\n",
      "Finished\n"
     ]
    },
    {
     "data": {
      "text/html": [
       "<div>\n",
       "<style scoped>\n",
       "    .dataframe tbody tr th:only-of-type {\n",
       "        vertical-align: middle;\n",
       "    }\n",
       "\n",
       "    .dataframe tbody tr th {\n",
       "        vertical-align: top;\n",
       "    }\n",
       "\n",
       "    .dataframe thead th {\n",
       "        text-align: right;\n",
       "    }\n",
       "</style>\n",
       "<table border=\"1\" class=\"dataframe\">\n",
       "  <thead>\n",
       "    <tr style=\"text-align: right;\">\n",
       "      <th></th>\n",
       "      <th>run</th>\n",
       "      <th>n_dim</th>\n",
       "      <th>err</th>\n",
       "    </tr>\n",
       "  </thead>\n",
       "  <tbody>\n",
       "    <tr>\n",
       "      <th>0</th>\n",
       "      <td>0</td>\n",
       "      <td>1</td>\n",
       "      <td>1.007783</td>\n",
       "    </tr>\n",
       "    <tr>\n",
       "      <th>1</th>\n",
       "      <td>0</td>\n",
       "      <td>2</td>\n",
       "      <td>0.982690</td>\n",
       "    </tr>\n",
       "    <tr>\n",
       "      <th>2</th>\n",
       "      <td>0</td>\n",
       "      <td>3</td>\n",
       "      <td>0.964066</td>\n",
       "    </tr>\n",
       "    <tr>\n",
       "      <th>3</th>\n",
       "      <td>0</td>\n",
       "      <td>4</td>\n",
       "      <td>0.943044</td>\n",
       "    </tr>\n",
       "    <tr>\n",
       "      <th>4</th>\n",
       "      <td>0</td>\n",
       "      <td>5</td>\n",
       "      <td>0.914015</td>\n",
       "    </tr>\n",
       "  </tbody>\n",
       "</table>\n",
       "</div>"
      ],
      "text/plain": [
       "   run  n_dim       err\n",
       "0    0      1  1.007783\n",
       "1    0      2  0.982690\n",
       "2    0      3  0.964066\n",
       "3    0      4  0.943044\n",
       "4    0      5  0.914015"
      ]
     },
     "execution_count": 4,
     "metadata": {},
     "output_type": "execute_result"
    }
   ],
   "source": [
    "dim_count_arr = np.arange(full_dimension_count)+1\n",
    "noise_mag = 3e-1\n",
    "run_count = 10\n",
    "\n",
    "fit_dict_list = []\n",
    "#\n",
    "for i_run in range(run_count): # repeat for several runs\n",
    "    emb_obs_mat = get_random_cloud(\n",
    "        independent_var_count=independent_var_count,\n",
    "        full_dimension_count=full_dimension_count,\n",
    "        point_count=point_count\n",
    "    ) # random data for each run\n",
    "    \n",
    "    for n_dim in dim_count_arr: # go through dimensions\n",
    "\n",
    "        # fit a PCA model then transform the source data using it\n",
    "        # then reverse the transform\n",
    "        pca_model = sk_dec.PCA(n_components=n_dim).fit(emb_obs_mat)\n",
    "        reproduced_emb_obs_mat = pca_model.inverse_transform(pca_model.transform(emb_obs_mat))\n",
    "\n",
    "        # add noise\n",
    "        reproduced_emb_obs_mat += (2*npr.rand(*reproduced_emb_obs_mat.shape) - 1)*noise_mag\n",
    "\n",
    "        # compare to the original\n",
    "        diff_mat = emb_obs_mat - reproduced_emb_obs_mat\n",
    "        err2_vec = np.sqrt(np.sum(np.abs(diff_mat)**2, axis=1)/np.sum(np.abs(emb_obs_mat)**2, axis=1))\n",
    "\n",
    "        # extract the error and save\n",
    "        fit_dict_list.append({\n",
    "            'run': i_run,\n",
    "            'n_dim': n_dim,\n",
    "            'err': np.sqrt(np.mean(err2_vec))\n",
    "        })\n",
    "        \n",
    "    print(f'\\r ({i_run+1})/({run_count}) done', end='')\n",
    "\n",
    "print('\\nFinished')\n",
    "\n",
    "fit_df = pd.DataFrame(fit_dict_list)\n",
    "\n",
    "fit_df.head(5)"
   ]
  },
  {
   "cell_type": "markdown",
   "metadata": {},
   "source": [
    "## Plot results "
   ]
  },
  {
   "cell_type": "code",
   "execution_count": 5,
   "metadata": {},
   "outputs": [
    {
     "data": {
      "image/png": "[encoded data removed]",
      "text/plain": [
       "<Figure size 432x288 with 1 Axes>"
      ]
     },
     "metadata": {
      "needs_background": "light"
     },
     "output_type": "display_data"
    }
   ],
   "source": [
    "fig, ax = pp.subplots(figsize=(6, 4))\n",
    "\n",
    "ax.plot(fit_df.n_dim, fit_df.err, '.')\n",
    "\n",
    "ax.set_xlabel('Number of dimensions')\n",
    "ax.set_ylabel('Relative mean error in reproducing observations')\n",
    "ax.grid()"
   ]
  },
  {
   "cell_type": "code",
   "execution_count": null,
   "metadata": {},
   "outputs": [],
   "source": []
  }
 ],
 "metadata": {
  "kernelspec": {
   "display_name": "Python 3 (ipykernel)",
   "language": "python",
   "name": "python3"
  },
  "language_info": {
   "codemirror_mode": {
    "name": "ipython",
    "version": 3
   },
   "file_extension": ".py",
   "mimetype": "text/x-python",
   "name": "python",
   "nbconvert_exporter": "python",
   "pygments_lexer": "ipython3",
   "version": "3.9.7"
  }
 },
 "nbformat": 4,
 "nbformat_minor": 4
}
